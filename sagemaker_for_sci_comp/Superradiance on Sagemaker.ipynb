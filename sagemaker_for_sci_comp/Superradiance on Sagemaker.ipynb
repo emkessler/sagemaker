{
 "cells": [
  {
   "cell_type": "markdown",
   "metadata": {},
   "source": [
    "# Scientific Computation on Sagemaker\n",
    "\n",
    "Amazon SageMaker is a fully-managed service that enables developers and data scientists to quickly and easily build, train, and deploy machine learning models at any scale. But besides streamlining the machine learning workflow, SageMaker also provides a powerful, flexible and easy to use compute environment to execute and parallelize a large spectrum of scientific computing tasks. In this notebook we demonstrate how to simulate a simple quantum system using Tensorflow together with Amazon SageMaker's _Bring You Own Algorithm_ (BYOA) functionality.\n",
    "\n",
    "\n",
    "## Some Background on the Problem (feel free to skip)\n",
    "\n",
    "The quantum effect we are going to simulate is known under the name of [superradiance](https://en.wikipedia.org/wiki/Superradiance \"Wikipedia\"). It describes a phenomenon where, under certain conditions, independent light emitters (such as individual atoms) spontaneously build up quantum coherence and act cooperatively as a single entity.  The coherence build-up causes the group to emit light as a high intensity pulse. This pulse is N times (!) stronger than the intensity expected from a group of independent particles, where N is the number of particles in the group. Interestingly, this effect is not based on any interaction between the particles but rather arises purely from symmetry properties of the particles' interaction with the light field.  \n",
    "\n",
    "![Superradiance](superradiance.png)\n",
    "*Fig. 1: Light emission profiles are distinctly different for independent (upper panel) and superradiant (lower panel) particle ensembles. Superradiance causes a spatially directed, short time, and high intensity pulse as opposed to the classical exponentially decaying emission profile.*\n",
    "\n",
    "Superradiance has been observed or proposed in [many](https://journals.aps.org/prl/abstract/10.1103/PhysRevLett.30.309 \"Atoms\") [different](http://science.sciencemag.org/content/285/5427/571 \"Bose-Einstein Condensates\") [quantum](https://journals.aps.org/prd/abstract/10.1103/PhysRevD.87.124026 \"Black Holes\") [systems](https://www.nature.com/articles/nphys494 \"Quantum Dot Lattices\"). We are going to examine in the following [superradiance from the nuclear spin ensemble of semiconductor Quantum Dots](https://journals.aps.org/prl/abstract/10.1103/PhysRevLett.104.143601) . "
   ]
  },
  {
   "cell_type": "markdown",
   "metadata": {},
   "source": [
    "## Setup\n",
    "(The setup and the general structure of the Docker container follows [this example](https://github.com/awslabs/amazon-sagemaker-examples/blob/master/advanced_functionality/scikit_bring_your_own/scikit_bring_your_own.ipynb))\n",
    "\n",
    "When operating in BYOA mode, SageMaker utilizes Amazon Elastic Container Service (ECS) to manage and deploy the Docker images that contain our code. Therefore, running this notebook requires additional permission in addition to the standard SageMakerFullAccess. The easiest way to add these permissions is simply to add the managed policy AmazonEC2ContainerRegistryFullAccess to the role that you used to start your notebook instance in the Sagemaker dashboard. There's no need to restart your notebook instance when you do this, the new permissions will be available immediately.\n",
    "\n",
    "To run this notebook, first, copy this repo onto your SageMaker instance. The repo contains a `container` directory that has all the components you need to package the sample algorithm for Amazon SageMager:\n",
    "\n",
    "    .\n",
    "    ├── Dockerfile\n",
    "    ├── local_test\n",
    "    └── superradiance\n",
    "        ├── train\n",
    "        └── utils.py\n",
    "\n",
    "Let's discuss each of these in turn:\n",
    "\n",
    "* __`Dockerfile`__ describes how to build your Docker container image. More details [here](https://github.com/awslabs/amazon-sagemaker-examples/blob/master/advanced_functionality/scikit_bring_your_own/scikit_bring_your_own.ipynb).\n",
    "* __`superradiance`__ is the directory which contains the files that will be installed in the container, in our case, it's a simple tensorflow script to perform the stepwise evolution of our system's Master Equation.\n",
    "* __`local_test`__ is a directory that shows how to test your new container on any computer that can run Docker, including an Amazon SageMaker notebook instance. Using this method, you can quickly iterate using small datasets to eliminate any structural bugs before you use the container with Amazon SageMaker. \n",
    "\n",
    "`superradiance/train` is the program that is invoked when the container is run for training. It takes a few parameters and the initial state of the system as input, runs a simulation of the system, and returns the emission profile. For the moment, let's not worry about how this simulation works (we'll come back to that later). \n",
    "\n",
    "To build the docker image and push it to ECS we need to run the script `build_and_push.sh`. We can do so right from the notebook:"
   ]
  },
  {
   "cell_type": "code",
   "execution_count": 15,
   "metadata": {
    "scrolled": true
   },
   "outputs": [
    {
     "name": "stdout",
     "output_type": "stream",
     "text": [
      "Login Succeeded\n",
      "Sending build context to Docker daemon  168.4kB\r",
      "\r\n",
      "Step 1/9 : FROM ubuntu:16.04\n",
      " ---> 0458a4468cbc\n",
      "Step 2/9 : MAINTAINER Amazon AI <sage-learner@amazon.com>\n",
      " ---> Using cache\n",
      " ---> 5bd96cd1013f\n",
      "Step 3/9 : RUN apt-get -y update && apt-get install -y --no-install-recommends          wget          python          ca-certificates     && rm -rf /var/lib/apt/lists/*\n",
      " ---> Using cache\n",
      " ---> 29fbb4c8b7d1\n",
      "Step 4/9 : RUN wget https://bootstrap.pypa.io/get-pip.py && python get-pip.py &&     pip install numpy scipy scikit-learn pandas gevent tensorflow &&         (cd /usr/local/lib/python2.7/dist-packages/scipy/.libs; rm *; ln ../../numpy/.libs/* .) &&         rm -rf /root/.cache\n",
      " ---> Using cache\n",
      " ---> 5f498f94d5d6\n",
      "Step 5/9 : ENV PYTHONUNBUFFERED TRUE\n",
      " ---> Using cache\n",
      " ---> 669ba8010a3c\n",
      "Step 6/9 : ENV PYTHONDONTWRITEBYTECODE TRUE\n",
      " ---> Using cache\n",
      " ---> a40db9f41fde\n",
      "Step 7/9 : ENV PATH \"/opt/program:${PATH}\"\n",
      " ---> Using cache\n",
      " ---> 9a02e0f73e35\n",
      "Step 8/9 : COPY container/superradiance /opt/program\n",
      " ---> Using cache\n",
      " ---> d50cb68903c7\n",
      "Step 9/9 : WORKDIR /opt/program\n",
      " ---> Using cache\n",
      " ---> 82d9c546ce6f\n",
      "Successfully built 82d9c546ce6f\n",
      "Successfully tagged superradiance:latest\n",
      "The push refers to a repository [989588853517.dkr.ecr.us-east-1.amazonaws.com/superradiance]\n",
      "538032493a24: Preparing\n",
      "530c5eb66b5e: Preparing\n",
      "5542bddf580b: Preparing\n",
      "6f4ce6b88849: Preparing\n",
      "92914665e7f6: Preparing\n",
      "c98ef191df4b: Preparing\n",
      "9c7183e0ea88: Preparing\n",
      "ff986b10a018: Preparing\n",
      "c98ef191df4b: Waiting\n",
      "9c7183e0ea88: Waiting\n",
      "ff986b10a018: Waiting\n",
      "5542bddf580b: Layer already exists\n",
      "6f4ce6b88849: Layer already exists\n",
      "538032493a24: Layer already exists\n",
      "530c5eb66b5e: Layer already exists\n",
      "92914665e7f6: Layer already exists\n",
      "c98ef191df4b: Layer already exists\n",
      "9c7183e0ea88: Layer already exists\n",
      "ff986b10a018: Layer already exists\n",
      "latest: digest: sha256:e347bf95526719a8b16c23b9c346295196e3294603a169f76c21c5ab6591b403 size: 1990\n",
      "\n"
     ]
    }
   ],
   "source": [
    "import subprocess\n",
    "print subprocess.check_output(['./build_and_push.sh', 'superradiance'])"
   ]
  },
  {
   "cell_type": "markdown",
   "metadata": {},
   "source": [
    "The script will build a Docker image from the Dockerfile including the program in the superradiance directory and push it to the ECS repo with name 'superradiance' (argument passed to build_and_push.sh). If the repo doesn't exist it will be created for you. \n",
    "\n",
    "Now we are ready to execute our simulation on SageMaker."
   ]
  },
  {
   "cell_type": "markdown",
   "metadata": {},
   "source": [
    "## Simulating Superradiance on Sagemaker\n",
    "\n",
    "Let's first import some modules and define some parameters of the simulation:"
   ]
  },
  {
   "cell_type": "code",
   "execution_count": 16,
   "metadata": {
    "collapsed": true
   },
   "outputs": [],
   "source": [
    "from scipy import sparse\n",
    "import numpy as np\n",
    "import os\n",
    "import pickle\n",
    "import matplotlib.pyplot as plt\n",
    "\n",
    "import boto3\n",
    "from sagemaker import get_execution_role\n",
    "import sagemaker as sage\n",
    "\n",
    "steps = 500                  # Number of simulated time steps\n",
    "N = 8                        # Number of nuclear spins\n",
    "dim = 2**(N+1)               # Dimension of Hilbert space of N nuclear and 1 electronic spin"
   ]
  },
  {
   "cell_type": "markdown",
   "metadata": {},
   "source": [
    "Let's try out our simulation with 8 nuclear spins and simulating 100 time steps. We will later pass these parameters to our program as 'hyperparameters'. \n",
    "\n",
    "Next, we define the initial state of the system. The state of a quantum system is usually represented through the so-called density matrix. We will define a simple initial state of the nuclear (all pointing up) and electron spins (pointing down) as a sparse matrix. Then we upload this state to S3. The simulation will later retrieve this data to initialize the system."
   ]
  },
  {
   "cell_type": "code",
   "execution_count": 17,
   "metadata": {
    "collapsed": true
   },
   "outputs": [],
   "source": [
    "# Define Nuclear and Electron spin states as density matrices\n",
    "rhoI = sparse.csr_matrix(([1.],([0],[0])),shape =(int(dim/2),int(dim/2))) # All nuclear spins up\n",
    "rhoS = sparse.csr_matrix(([1.],([1],[1])),shape =(2,2))                   # Electron spin down\n",
    "sparse_rho =sparse.kron(rhoS, rhoI)                                       # Build the system density matrix\n",
    "\n",
    "tempfile = '/tmp/tmp.pckl'\n",
    "pickle.dump(sparse_rho, open(tempfile, \"wb\"))\n",
    "\n",
    "# Upload serialized initial state to S3\n",
    "bucket_name = 'your-bucket-name' # Put your bucket name here\n",
    "resource = boto3.resource('s3') \n",
    "my_bucket = resource.Bucket(bucket_name)                       \n",
    "my_bucket.upload_file(tempfile, Key='superradiance/initial_state/init.pckl')\n",
    "\n",
    "# Clean-up temporary files\n",
    "os.remove(tempfile)  "
   ]
  },
  {
   "cell_type": "markdown",
   "metadata": {},
   "source": [
    "At time=0 our system is initialized to all nuclear spins pointing 'up', and the electron spin pointing 'down'. Now everything is ready to ship our simulation. After specifying the Docker image to be used, we will create a training job that specifies the hardware to be used for the simulation. SageMaker will then spin up the requested instances, pull the specified Docker image from ECS, and start the job. The program (as it is defined in the file `superradiance/train`) uses Tensorflow to solve the system of coupled differential equations which describes the system's dynamics by sequential stepwise evolution. More details can be found in `superradiance/train`."
   ]
  },
  {
   "cell_type": "code",
   "execution_count": 18,
   "metadata": {},
   "outputs": [
    {
     "name": "stderr",
     "output_type": "stream",
     "text": [
      "INFO:sagemaker:Creating training-job with name: superradiance-2018-01-31-21-48-43-572\n"
     ]
    },
    {
     "name": "stdout",
     "output_type": "stream",
     "text": [
      "......................................................\n",
      "\u001b[31mStarting the training.\u001b[0m\n",
      "\u001b[31m2018-01-31 21:53:04.621223: I tensorflow/core/platform/cpu_feature_guard.cc:137] Your CPU supports instructions that this TensorFlow binary was not compiled to use: SSE4.1 SSE4.2 AVX AVX2 FMA\u001b[0m\n",
      "\u001b[31mTraining complete.\u001b[0m\n",
      "===== Job Complete =====\n"
     ]
    }
   ],
   "source": [
    "role = get_execution_role()\n",
    "sess = sage.Session()\n",
    "\n",
    "# Specify the name of the ECS repo that contains your docker image. \n",
    "# By default the image with tag 'latest' in the repo will be utilized.\n",
    "imagename = 'superradiance'  \n",
    "\n",
    "account = sess.boto_session.client('sts').get_caller_identity()['Account']\n",
    "region = sess.boto_session.region_name\n",
    "image = '{}.dkr.ecr.{}.amazonaws.com/{}'.format(account, region, imagename)\n",
    "\n",
    "# Define the training job\n",
    "superradiance = sage.estimator.Estimator(image,\n",
    "                       role, 1, 'ml.c4.2xlarge',\n",
    "                       output_path=\"s3://{}/superradiance/output\".format(bucket_name),\n",
    "                       sagemaker_session=sess)\n",
    "\n",
    "# Parameters can be passed to the simulation as a dictionary\n",
    "superradiance.hyperparam_dict = {'N': N, 'steps': steps}\n",
    "\n",
    "# Pass the location of the training data (see above) and start the job\n",
    "superradiance.fit(\"s3://{}/superradiance/initial_state\".format(bucket_name))"
   ]
  },
  {
   "cell_type": "markdown",
   "metadata": {},
   "source": [
    "The results of the simulation will be placed as a tar.gz file in the S3 location specified by `output_path`. Let's have a look at the results!"
   ]
  },
  {
   "cell_type": "code",
   "execution_count": 19,
   "metadata": {},
   "outputs": [
    {
     "data": {
      "image/png": "[encoded data removed]",
      "text/plain": [
       "<matplotlib.figure.Figure at 0x7f1726b49510>"
      ]
     },
     "metadata": {},
     "output_type": "display_data"
    }
   ],
   "source": [
    "import tarfile\n",
    "\n",
    "# get the results from S3\n",
    "results = my_bucket.Object('superradiance/output/{}/output/model.tar.gz'.format(superradiance.latest_training_job.name))\n",
    "tempfile = '/tmp/model.tar.gz'   \n",
    "results.download_file('/tmp/model.tar.gz')    \n",
    "\n",
    "# unzip the results\n",
    "tar = tarfile.open(tempfile, \"r:gz\")\n",
    "tar.extractall(path = '/tmp')\n",
    "\n",
    "# load the results into the notebook\n",
    "out = pickle.load(open('/tmp/out.pckl', \"rb\"))\n",
    "intensity = out['intensity']\n",
    "I_ind = out['I_ind']\n",
    "\n",
    "# clean-up temporary files\n",
    "os.remove(tempfile) \n",
    "\n",
    "# Vizualize the results\n",
    "plt.scatter(range(steps-1),intensity/I_ind, label = 'Simulated System')\n",
    "plt.scatter(range(steps-1), np.exp(-I_ind/N * np.arange(steps-1)), label = 'Classical System (benchmark)')\n",
    "plt.xlabel('Time [a.u.]')\n",
    "plt.ylabel('Intensity of emitted radiation [normalized]')\n",
    "plt.legend()\n",
    "\n",
    "plt.show()"
   ]
  },
  {
   "cell_type": "markdown",
   "metadata": {},
   "source": [
    "*Fig 2.: Emission profile of the simulated partical ensemble (blue). The emission profile exhibits a strong burst of intensity when compared to the expected emission of a classical ensemble (orange)*"
   ]
  },
  {
   "cell_type": "markdown",
   "metadata": {},
   "source": [
    "We can clearly see that the quantum system we have simulated exhibits a characteristic superradiance signature in the emission profile (blue). As compared to the emission expected from an ensemble of classicle particles (orange) the profile show a strong and distinct burst of radiation after a short time indicating superradiance. "
   ]
  },
  {
   "cell_type": "markdown",
   "metadata": {},
   "source": [
    "## Tensorflow Code to Run the Simulation\n",
    "\n",
    "The program that is executed (`superradiance/train`) above uses Tensorflow to solve the quantum master equation of the spin system by simple sequential stepwise evolution. The code including explanations of the main steps is replicated below:"
   ]
  },
  {
   "cell_type": "code",
   "execution_count": 11,
   "metadata": {},
   "outputs": [
    {
     "name": "stdout",
     "output_type": "stream",
     "text": [
      "#!/usr/bin/env python\r\n",
      "\r\n",
      "# A sample program that simulates a simple quantum system exhibiting superradiance\r\n",
      "\r\n",
      "from __future__ import print_function\r\n",
      "import os\r\n",
      "import json\r\n",
      "import pickle\r\n",
      "import sys\r\n",
      "import traceback\r\n",
      "import tensorflow as tf\r\n",
      "import numpy as np\r\n",
      "from utils import kronecker_product, SparseIndices               \r\n",
      "from scipy import sparse                                          \r\n",
      "import pandas as pd                                               \r\n",
      "\r\n",
      "# These are the paths to where SageMaker mounts interesting things in your container.\r\n",
      "\r\n",
      "prefix = '/opt/ml/'\r\n",
      "\r\n",
      "input_path = prefix + 'input/data'\r\n",
      "\r\n",
      "output_path = os.path.join(prefix, 'output')                       # Failure output & error messages should be written here\r\n",
      "model_path = os.path.join(prefix, 'model')                         # All results should be written here \r\n",
      "param_path = os.path.join(prefix, \r\n",
      "                          'input/config/hyperparameters.json')     # Passed parameters can be retrieved here\r\n",
      "\r\n",
      "# This algorithm has a single channel of input data called 'training'. Since we run in\r\n",
      "# File mode, the input files are copied to the directory specified here.\r\n",
      "channel_name='training'\r\n",
      "training_path = os.path.join(input_path, channel_name)              # The initial state is found here \r\n",
      "\r\n",
      "\r\n",
      "\r\n",
      "# The function to execute the training.\r\n",
      "def train():\r\n",
      "    print('Starting the training.')\r\n",
      "    try:        \r\n",
      "        ##################################################################################\r\n",
      "        # Retrieve parameters\r\n",
      "        ##################################################################################\r\n",
      "        # Parameters that were defined in the hyperparameter dict in the notebook \r\n",
      "        # (in our example: superradiance.hyperparam_dict = {'N': N, 'steps': steps})  \r\n",
      "        # can be retrieved from the param_path defined above. \r\n",
      "        # Note that the parameters are stored as a JSON string, so it is required to \r\n",
      "        # define the correct dtype upon reading (here: int).\r\n",
      "        \r\n",
      "        datatype = tf.complex128\r\n",
      "        \r\n",
      "        with open(param_path, 'r') as tc: \r\n",
      "             trainingParams = json.load(tc)\r\n",
      "        N = int(trainingParams.get('N', None))          # Number of simulated nuclear spins as defined in notebook\r\n",
      "        steps = int(trainingParams.get('steps', None))  # Number of simulated time steps\r\n",
      "\r\n",
      "        dim = 2**(N+1)                                  # Dimension of Hilbert space of N nuclear and 1 electronic spin\r\n",
      "        \r\n",
      "        #################################################################################\r\n",
      "        # Define some other parameters\r\n",
      "        ##################################################################################\r\n",
      "        \r\n",
      "        Amean = 1\r\n",
      "        gamma = 1\r\n",
      "        #g = np.random.randn(N) \r\n",
      "        g = np.ones(N)\r\n",
      "        g = g/(np.sqrt((g**2).sum()))                    # Coupling strengts\r\n",
      "        A = Amean/g.sum()\r\n",
      "        I_ind = np.real(A**2/(gamma+1j*Amean))*2/N       # Classical emission intensity of N independent emitters (benchmark)        \r\n",
      "        \r\n",
      "        ##################################################################################\r\n",
      "        # Define TF constants\r\n",
      "        ##################################################################################\r\n",
      "        \r\n",
      "        gammaT = tf.constant(gamma, dtype=datatype)\r\n",
      "        AT = tf.constant(A, dtype=datatype)\r\n",
      "        eps = tf.placeholder(dtype=datatype, shape=())\r\n",
      "\r\n",
      "        ##################################################################################\r\n",
      "        # Define 'Pauli Matrices'\r\n",
      "        ##################################################################################\r\n",
      "\r\n",
      "        sigmaz = tf.constant([[1/2, 0], [0, -1/2]], dtype= datatype)\r\n",
      "        splus  = tf.constant([[0, 1], [0, 0]], dtype = datatype)\r\n",
      "        sminus = tf.constant([[0, 0], [1, 0]], dtype = datatype)\r\n",
      "\r\n",
      "        ##################################################################################\r\n",
      "        # Electron Spin operators \r\n",
      "        ##################################################################################\r\n",
      "\r\n",
      "        Sm = kronecker_product(sminus, tf.eye(int(dim/2), dtype = datatype))\r\n",
      "        Sp = tf.transpose(Sm)\r\n",
      "        Sz = kronecker_product(sigmaz, tf.eye(int(dim/2), dtype = datatype))\r\n",
      "\r\n",
      "        ##################################################################################\r\n",
      "        # Nuclear Spin operators \r\n",
      "        ##################################################################################\r\n",
      "\r\n",
      "        Am = tf.zeros(int(dim/2), dtype = datatype)\r\n",
      "        Iz = tf.zeros(int(dim/2), dtype = datatype)\r\n",
      "        for p in range(N): \r\n",
      "            Am = Am + g[p]*kronecker_product(kronecker_product(tf.eye(2**p, dtype = datatype),sminus)\r\n",
      "                                           ,tf.eye(2**(N-1-p), dtype = datatype))\r\n",
      "            Iz = Iz +      kronecker_product(kronecker_product(tf.eye(2**p, dtype = datatype),sigmaz)\r\n",
      "                                           ,tf.eye(2**(N-1-p), dtype = datatype))\r\n",
      "\r\n",
      "        Am = kronecker_product(tf.eye(2, dtype = datatype),Am)\r\n",
      "        Ap = tf.transpose(Am)\r\n",
      "        Iz = kronecker_product(tf.eye(2, dtype = datatype),Iz)\r\n",
      "            \r\n",
      "        ##################################################################################\r\n",
      "        # Load and construct Initial State\r\n",
      "        ##################################################################################\r\n",
      "        # You can pass on larger data structures to your program by placing them on S3 and \r\n",
      "        # and point to the location at execution time.\r\n",
      "        # (in our example: superradiance.fit(\"s3://sagemaker-kessle31/superradiance/initial_state\")\r\n",
      "        # It can be retrieved from the 'training_path' location defined above.           \r\n",
      "            \r\n",
      "        sparse_rho = pickle.load(open(os.path.join(training_path, 'init.pckl'), \"rb\"))\r\n",
      "\r\n",
      "        rho_ind = SparseIndices(sparse_rho)\r\n",
      "        rho2 = tf.sparse_to_dense(rho_ind['indices'], \r\n",
      "                                  rho_ind['dense_shape'], \r\n",
      "                                  rho_ind['values'])         # Sparse_to_dense not implemented for complex at time of this \r\n",
      "                                                             # notebook => Construct Real an Imag separately\r\n",
      "        rho1 = tf.complex(rho2,tf.zeros(rho_ind['dense_shape'], dtype=tf.float64))\r\n",
      "        rho = tf.Variable(rho1, dtype=datatype)  \r\n",
      "\r\n",
      "        ##################################################################################\r\n",
      "        # Define Operations\r\n",
      "        ##################################################################################\r\n",
      "        \r\n",
      "        H = 0.5 * AT * (tf.matmul(Sp,Am) + tf.matmul(Sm,Ap))  # Define the Hamiltonian of the system\r\n",
      "        \r\n",
      "        IL = gammaT*(tf.matmul(tf.matmul(Sm,rho),Sp) \r\n",
      "                     - 0.5 * (tf.matmul(tf.matmul(Sp,Sm),rho) \r\n",
      "                              + tf.matmul(rho, tf.matmul(Sp,Sm))))\\\r\n",
      "              - 1j * (tf.matmul(H,rho) - tf.matmul(rho, H))   # Define the Lagrangian of the system\r\n",
      "            \r\n",
      "        rho_ = rho + eps * IL                                 # Evolve the system by one time step\r\n",
      "        \r\n",
      "        pol = tf.real(tf.trace(tf.matmul(rho, Iz)))           # Compute the polarization of the nuclear system,\r\n",
      "\r\n",
      "        global_step = tf.train.get_or_create_global_step()\r\n",
      "        increment_global_step_op = tf.assign(global_step, global_step+1)\r\n",
      "        \r\n",
      "        step = tf.group(rho.assign(rho_),increment_global_step_op) \r\n",
      "        \r\n",
      "        ##################################################################################\r\n",
      "        # Run the Simulation     \r\n",
      "        ##################################################################################\r\n",
      "        \r\n",
      "        polarization = np.zeros(steps)        \r\n",
      "        init = tf.global_variables_initializer()\r\n",
      "        with tf.Session() as sess:\r\n",
      "            sess.run(init)            \r\n",
      "            for i in range(steps):\r\n",
      "                _ , polarization[i] = sess.run([step, pol], feed_dict={eps:0.3})\r\n",
      "                \r\n",
      "        ##################################################################################\r\n",
      "        # Compute output and dump to pickle                       \r\n",
      "        ##################################################################################                       \r\n",
      "        # Everything written into the 'model_path' location defined above will be\r\n",
      "        # returned by SageMAker to the S3 location defined in the notebook \r\n",
      "        # (in our example: output_path=\"s3://sagemaker-kessle31/superradiance/output\")\r\n",
      "        # Note that the files will be returned as a tar.gz archive       \r\n",
      "        \r\n",
      "        intensity = -np.diff(polarization)                                  \r\n",
      "        out= {'intensity': intensity, 'I_ind': I_ind}\r\n",
      "        pickle.dump(out, open(os.path.join(model_path, 'out.pckl'), \"wb\"))\r\n",
      "        \r\n",
      "        print('Training complete.')\r\n",
      "        \r\n",
      "    except Exception as e:\r\n",
      "        # Write out an error file. This will be returned as the failureReason in the\r\n",
      "        # DescribeTrainingJob result.\r\n",
      "        trc = traceback.format_exc()\r\n",
      "        with open(os.path.join(output_path, 'failure'), 'w') as s:\r\n",
      "            s.write('Exception during training: ' + str(e) + '\\n' + trc)\r\n",
      "        # Printing this causes the exception to be in the training job logs, as well.\r\n",
      "        print('Exception during training: ' + str(e) + '\\n' + trc, file=sys.stderr)\r\n",
      "        # A non-zero exit code causes the training job to be marked as Failed.\r\n",
      "        sys.exit(255)\r\n",
      "\r\n",
      "if __name__ == '__main__':\r\n",
      "    train()\r\n",
      "\r\n",
      "    # A zero exit code causes the job to be marked a Succeeded.\r\n",
      "    sys.exit(0)\r\n"
     ]
    }
   ],
   "source": [
    "!cat container/superradiance/train"
   ]
  }
 ],
 "metadata": {
  "kernelspec": {
   "display_name": "Python 3",
   "language": "python",
   "name": "python3"
  },
  "language_info": {
   "codemirror_mode": {
    "name": "ipython",
    "version": 3
   },
   "file_extension": ".py",
   "mimetype": "text/x-python",
   "name": "python",
   "nbconvert_exporter": "python",
   "pygments_lexer": "ipython3",
   "version": "3.6.2"
  }
 },
 "nbformat": 4,
 "nbformat_minor": 2
}
